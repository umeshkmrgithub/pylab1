{
  "cells": [
    {
      "cell_type": "markdown",
      "metadata": {
        "id": "view-in-github",
        "colab_type": "text"
      },
      "source": [
        "<a href=\"https://colab.research.google.com/github/umeshkmrgithub/pylab1/blob/master/PYTHON_DS_LAB1.ipynb\" target=\"_parent\"><img src=\"https://colab.research.google.com/assets/colab-badge.svg\" alt=\"Open In Colab\"/></a>"
      ]
    },
    {
      "cell_type": "markdown",
      "source": [
        "Write a code get an integer number as input and print the sum of the digits.\n",
        "\n",
        "Input Description: A single line containing an integer.\n",
        "\n",
        "Output Description: Print the sum of the digits of the integer.\n",
        "\n",
        "Sample Input : 124 Sample Output : 7"
      ],
      "metadata": {
        "id": "VZIipWPVmvLB"
      }
    },
    {
      "cell_type": "code",
      "source": [
        "def getsum (n):\n",
        "  sum = 0\n",
        "  for digit in str(n):\n",
        "    sum += int(digit)\n",
        "  return sum\n",
        "\n",
        "n = input(\"ENTER THE ANY NUMBERS: \")\n",
        "getsum(n)"
      ],
      "metadata": {
        "colab": {
          "base_uri": "https://localhost:8080/"
        },
        "id": "iE4uZcksWJOd",
        "outputId": "f3a98c9c-e01f-46c5-b077-5492970da63d"
      },
      "execution_count": null,
      "outputs": [
        {
          "name": "stdout",
          "output_type": "stream",
          "text": [
            "ENTER THE ANY NUMBERS: 12334343\n"
          ]
        },
        {
          "output_type": "execute_result",
          "data": {
            "text/plain": [
              "23"
            ]
          },
          "metadata": {},
          "execution_count": 1
        }
      ]
    }
  ],
  "metadata": {
    "colab": {
      "name": "PYTHON_DS_LAB1",
      "provenance": [],
      "include_colab_link": true
    },
    "kernelspec": {
      "display_name": "Python 3",
      "name": "python3"
    }
  },
  "nbformat": 4,
  "nbformat_minor": 0
}