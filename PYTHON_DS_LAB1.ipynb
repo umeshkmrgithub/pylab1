{
  "cells": [
    {
      "cell_type": "markdown",
      "metadata": {
        "id": "view-in-github",
        "colab_type": "text"
      },
      "source": [
        "<a href=\"https://colab.research.google.com/github/umeshkmrgithub/pylab1/blob/master/PYTHON_DS_LAB1.ipynb\" target=\"_parent\"><img src=\"https://colab.research.google.com/assets/colab-badge.svg\" alt=\"Open In Colab\"/></a>"
      ]
    },
    {
      "cell_type": "markdown",
      "source": [
        "Write a code get an integer number as input and print the sum of the digits.\n",
        "\n",
        "Input Description: A single line containing an integer.\n",
        "\n",
        "Output Description: Print the sum of the digits of the integer.\n",
        "\n",
        "Sample Input : 124 Sample Output : 7"
      ],
      "metadata": {
        "id": "VZIipWPVmvLB"
      }
    },
    {
      "cell_type": "code",
      "source": [
        "def getsum (n):\n",
        "  sum = 0\n",
        "  for digit in str(n):\n",
        "    sum += int(digit)\n",
        "  return sum\n",
        "\n",
        "n = input(\"ENTER THE ANY NUMBERS: \")\n",
        "getsum(n)"
      ],
      "metadata": {
        "colab": {
          "base_uri": "https://localhost:8080/"
        },
        "id": "iE4uZcksWJOd",
        "outputId": "f3a98c9c-e01f-46c5-b077-5492970da63d"
      },
      "execution_count": null,
      "outputs": [
        {
          "name": "stdout",
          "output_type": "stream",
          "text": [
            "ENTER THE ANY NUMBERS: 12334343\n"
          ]
        },
        {
          "output_type": "execute_result",
          "data": {
            "text/plain": [
              "23"
            ]
          },
          "metadata": {},
          "execution_count": 1
        }
      ]
    },
    {
      "cell_type": "markdown",
      "source": [
        "Write a code to get an integer N and print the values from N to 1.\n",
        "\n",
        "Input Description:\n",
        "A single line contains an integer N.\n",
        "\n",
        "Output Description:\n",
        "Print the values from N to 1 in a separate line.\n",
        "\n",
        "Sample Input :\n",
        "10\n",
        "Sample Output :\n",
        "10\n",
        "9\n",
        "8\n",
        "7\n",
        "6\n",
        "5\n",
        "4\n",
        "3\n",
        "2\n",
        "1"
      ],
      "metadata": {
        "id": "z68m5iLDB5MR"
      }
    },
    {
      "cell_type": "code",
      "source": [
        "a = int(input())\n",
        "for i in range(10):\n",
        "  i -=a\n",
        "  if i <= a:\n",
        "    print (abs(i))\n",
        "\n"
      ],
      "metadata": {
        "colab": {
          "base_uri": "https://localhost:8080/"
        },
        "id": "_HDMQwreB_a1",
        "outputId": "65a3d72a-5976-4e76-ce52-a32ef026a27f"
      },
      "execution_count": 5,
      "outputs": [
        {
          "output_type": "stream",
          "name": "stdout",
          "text": [
            "10\n",
            "10\n",
            "9\n",
            "8\n",
            "7\n",
            "6\n",
            "5\n",
            "4\n",
            "3\n",
            "2\n",
            "1\n"
          ]
        }
      ]
    },
    {
      "cell_type": "code",
      "source": [
        "# Convert integers to string using map\n",
        "x = [1,2,3,4,5]\n"
      ],
      "metadata": {
        "id": "VCNhLqJ-V5va"
      },
      "execution_count": 2,
      "outputs": []
    },
    {
      "cell_type": "code",
      "source": [
        "print (' '.join(map(str, x)))\n",
        "print ('\\n'.join(map(str, x)))"
      ],
      "metadata": {
        "colab": {
          "base_uri": "https://localhost:8080/"
        },
        "id": "2ycjw1MEWCyJ",
        "outputId": "a3b4b56c-a3dd-4894-80b2-9a6d73085386"
      },
      "execution_count": 11,
      "outputs": [
        {
          "output_type": "stream",
          "name": "stdout",
          "text": [
            "1 2 3 4 5\n",
            "1\n",
            "2\n",
            "3\n",
            "4\n",
            "5\n"
          ]
        }
      ]
    },
    {
      "cell_type": "code",
      "source": [
        "# Python program to print list print the list by using list comprehension\n"
      ],
      "metadata": {
        "id": "JiDS0nj9XE57"
      },
      "execution_count": null,
      "outputs": []
    },
    {
      "cell_type": "code",
      "source": [
        "y = [1,2,3,4,5,6]"
      ],
      "metadata": {
        "id": "hVCfu244yG0k"
      },
      "execution_count": 12,
      "outputs": []
    },
    {
      "cell_type": "code",
      "source": [
        "[print (i, end=\" \\n\") for i in y ]"
      ],
      "metadata": {
        "colab": {
          "base_uri": "https://localhost:8080/"
        },
        "id": "Q8vpvCUGyMTF",
        "outputId": "fa254bf9-90b0-4540-bf4d-7ebb26c41b8f"
      },
      "execution_count": 16,
      "outputs": [
        {
          "output_type": "stream",
          "name": "stdout",
          "text": [
            "1 \n",
            "2 \n",
            "3 \n",
            "4 \n",
            "5 \n",
            "6 \n"
          ]
        },
        {
          "output_type": "execute_result",
          "data": {
            "text/plain": [
              "[None, None, None, None, None, None]"
            ]
          },
          "metadata": {},
          "execution_count": 16
        }
      ]
    },
    {
      "cell_type": "markdown",
      "source": [
        "#PRINT THE STRING REVERSE ORDER"
      ],
      "metadata": {
        "id": "X6wEixbu0hRv"
      }
    },
    {
      "cell_type": "code",
      "source": [
        "a = 'GUVI'\n"
      ],
      "metadata": {
        "id": "ZwIEZS7tzPtu"
      },
      "execution_count": 24,
      "outputs": []
    },
    {
      "cell_type": "code",
      "source": [
        "print (a [::-1])"
      ],
      "metadata": {
        "colab": {
          "base_uri": "https://localhost:8080/"
        },
        "id": "dIaL8jRrzTVB",
        "outputId": "ef4c9708-0de4-426a-ffc9-a4d04a559b61"
      },
      "execution_count": 34,
      "outputs": [
        {
          "output_type": "stream",
          "name": "stdout",
          "text": [
            "IVUG\n"
          ]
        }
      ]
    }
  ],
  "metadata": {
    "colab": {
      "name": "PYTHON_DS_LAB1",
      "provenance": [],
      "include_colab_link": true
    },
    "kernelspec": {
      "display_name": "Python 3",
      "name": "python3"
    }
  },
  "nbformat": 4,
  "nbformat_minor": 0
}